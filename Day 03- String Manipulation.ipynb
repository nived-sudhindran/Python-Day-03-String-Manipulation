{
 "cells": [
  {
   "cell_type": "markdown",
   "id": "e3de037a-a38b-4bfb-879b-8ae1c9035ff6",
   "metadata": {},
   "source": [
    "### Write a function to check if a string is a PALINDROME."
   ]
  },
  {
   "cell_type": "code",
   "execution_count": 71,
   "id": "eeb61a7d-5f37-43a8-a587-bb74891870f3",
   "metadata": {},
   "outputs": [
    {
     "name": "stdout",
     "output_type": "stream",
     "text": [
      "\tPalindrome Checking Program.\n",
      "\n"
     ]
    },
    {
     "name": "stdin",
     "output_type": "stream",
     "text": [
      "Please enter a string:  hindi\n"
     ]
    },
    {
     "name": "stdout",
     "output_type": "stream",
     "text": [
      "The String 'hindi'  is NOT PALINDROME\n"
     ]
    }
   ],
   "source": [
    "def check_palindrome(checkString):\n",
    "    reverseString=checkString[::-1]       # reversing the string\n",
    "    #print(reverseString)\n",
    "    if(checkString==reverseString):\n",
    "        print(f\"The String \\'{checkString}\\' is PALINDROME\")\n",
    "    else:\n",
    "        print(f\"The String \\'{checkString}\\'  is NOT PALINDROME\")\n",
    "\n",
    "print(\"\\tPalindrome Checking Program.\\n\")\n",
    "myString=input(\"Please enter a string: \")\n",
    "myString=myString.lower()    #converting to lower characters \n",
    "check_palindrome(myString)"
   ]
  },
  {
   "cell_type": "code",
   "execution_count": null,
   "id": "0d0a08fd-601b-4146-a494-60e639f17b1e",
   "metadata": {},
   "outputs": [],
   "source": [
    "\n",
    "\n",
    "\n",
    "\n",
    "\n",
    "\n",
    "\n"
   ]
  },
  {
   "cell_type": "markdown",
   "id": "411dca21-cfb1-4e26-8929-5acb8cda1ad3",
   "metadata": {},
   "source": [
    "### Implement a function that capitalizes the first and last character of every word in a sentence"
   ]
  },
  {
   "cell_type": "code",
   "execution_count": 73,
   "id": "97fd99b1-8b8c-4e57-b4d7-052c530de349",
   "metadata": {},
   "outputs": [
    {
     "name": "stdin",
     "output_type": "stream",
     "text": [
      "Please enter a string:  india is my country and all indians are my brothers and sisters\n"
     ]
    },
    {
     "name": "stdout",
     "output_type": "stream",
     "text": [
      "IndiA IS MY CountrY AnD AlL IndianS ArE MY BrotherS AnD SisterS\n"
     ]
    }
   ],
   "source": [
    "def captalizeFirstAndLast(passString):\n",
    "    length=len(passString);\n",
    "    myList=list(passString)\n",
    "    #print(myList)\n",
    "    myList[0]=myList[0].upper()                   #Capitalize 1st character of the sentence\n",
    "    myList[length-1]=myList[length-1].upper()     #Capitalize last character of the sentence\n",
    "    for x in range(1,length):\n",
    "        #print(myList[x])\n",
    "        if myList[x]==\" \":\n",
    "            myList[x-1]=myList[x-1].upper()       #if you encounter a SPACE, Capitalize the previous character\n",
    "            myList[x+1]=myList[x+1].upper()       #if you encounter a SPACE, Capitalize the very next character\n",
    "    passString=''.join(myList)                    #convert the list back to String\n",
    "    print(passString)\n",
    "\n",
    "myString=input(\"Please enter a string: \")\n",
    "captalizeFirstAndLast(myString)\n",
    "        "
   ]
  },
  {
   "cell_type": "code",
   "execution_count": null,
   "id": "6ec60169-b70f-4136-a6f9-72f068b1fcf8",
   "metadata": {},
   "outputs": [],
   "source": [
    "\n",
    "\n",
    "\n"
   ]
  }
 ],
 "metadata": {
  "kernelspec": {
   "display_name": "Python 3 (ipykernel)",
   "language": "python",
   "name": "python3"
  },
  "language_info": {
   "codemirror_mode": {
    "name": "ipython",
    "version": 3
   },
   "file_extension": ".py",
   "mimetype": "text/x-python",
   "name": "python",
   "nbconvert_exporter": "python",
   "pygments_lexer": "ipython3",
   "version": "3.12.7"
  }
 },
 "nbformat": 4,
 "nbformat_minor": 5
}
